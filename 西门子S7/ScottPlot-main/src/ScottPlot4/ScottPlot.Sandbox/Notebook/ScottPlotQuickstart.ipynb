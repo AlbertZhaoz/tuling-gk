{
 "cells": [
  {
   "cell_type": "markdown",
   "metadata": {
    "dotnet_interactive": {
     "language": "csharp"
    },
    "vscode": {
     "languageId": "dotnet-interactive.csharp"
    }
   },
   "source": [
    "# ScottPlot Notebook Quickstart\n",
    "\n",
    "_How to use ScottPlot to plot data in a Jupyter / .NET Interactive notebook_"
   ]
  },
  {
   "cell_type": "code",
   "execution_count": null,
   "metadata": {
    "dotnet_interactive": {
     "language": "csharp"
    },
    "vscode": {
     "languageId": "dotnet-interactive.csharp"
    }
   },
   "outputs": [
    {
     "data": {
      "text/html": [
       "<div><div></div><div></div><div><strong>Installed Packages</strong><ul><li><span>ScottPlot, 4.1.41</span></li></ul></div></div>"
      ]
     },
     "metadata": {},
     "output_type": "display_data"
    }
   ],
   "source": [
    "// Install the ScottPlot NuGet package\n",
    "#r \"nuget:ScottPlot\""
   ]
  },
  {
   "cell_type": "code",
   "execution_count": null,
   "metadata": {
    "dotnet_interactive": {
     "language": "csharp"
    },
    "vscode": {
     "languageId": "dotnet-interactive.csharp"
    }
   },
   "outputs": [
    {
     "data": {
      "text/html": [
       "<img src=\"data:image/png;base64,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\"></img>"
      ]
     },
     "metadata": {},
     "output_type": "display_data"
    }
   ],
   "source": [
    "// Plot some data\n",
    "double[] dataX = new double[] { 1, 2, 3, 4, 5 };\n",
    "double[] dataY = new double[] { 1, 4, 9, 16, 25 };\n",
    "var plt = new ScottPlot.Plot(400, 300);\n",
    "plt.AddScatter(dataX, dataY);\n",
    "\n",
    "// Display the result as a HTML image\n",
    "display(HTML(plt.GetImageHTML()));"
   ]
  },
  {
   "cell_type": "code",
   "execution_count": null,
   "metadata": {
    "dotnet_interactive": {
     "language": "csharp"
    },
    "vscode": {
     "languageId": "dotnet-interactive.csharp"
    }
   },
   "outputs": [],
   "source": []
  }
 ],
 "metadata": {
  "kernelspec": {
   "display_name": ".NET (C#)",
   "language": "C#",
   "name": ".net-csharp"
  },
  "language_info": {
   "file_extension": ".cs",
   "mimetype": "text/x-csharp",
   "name": "C#",
   "pygments_lexer": "csharp",
   "version": "9.0"
  },
  "orig_nbformat": 4
 },
 "nbformat": 4,
 "nbformat_minor": 2
}
